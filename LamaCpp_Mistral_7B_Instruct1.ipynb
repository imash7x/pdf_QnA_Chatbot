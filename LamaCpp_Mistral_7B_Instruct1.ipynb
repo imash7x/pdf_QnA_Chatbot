{
  "cells": [
    {
      "cell_type": "code",
      "execution_count": 1,
      "metadata": {
        "colab": {
          "base_uri": "https://localhost:8080/"
        },
        "id": "ei_N_jlUvWDV",
        "outputId": "80d3bb28-5616-4c46-a6d5-0022e4d5bf81"
      },
      "outputs": [
        {
          "name": "stdout",
          "output_type": "stream",
          "text": [
            "Requirement already satisfied: langchain in /usr/local/lib/python3.10/dist-packages (0.0.320)\n",
            "Requirement already satisfied: PyYAML>=5.3 in /usr/local/lib/python3.10/dist-packages (from langchain) (6.0.1)\n",
            "Requirement already satisfied: SQLAlchemy<3,>=1.4 in /usr/local/lib/python3.10/dist-packages (from langchain) (2.0.22)\n",
            "Requirement already satisfied: aiohttp<4.0.0,>=3.8.3 in /usr/local/lib/python3.10/dist-packages (from langchain) (3.8.6)\n",
            "Requirement already satisfied: anyio<4.0 in /usr/local/lib/python3.10/dist-packages (from langchain) (3.7.1)\n",
            "Requirement already satisfied: async-timeout<5.0.0,>=4.0.0 in /usr/local/lib/python3.10/dist-packages (from langchain) (4.0.3)\n",
            "Requirement already satisfied: dataclasses-json<0.7,>=0.5.7 in /usr/local/lib/python3.10/dist-packages (from langchain) (0.6.1)\n",
            "Requirement already satisfied: jsonpatch<2.0,>=1.33 in /usr/local/lib/python3.10/dist-packages (from langchain) (1.33)\n",
            "Requirement already satisfied: langsmith<0.1.0,>=0.0.43 in /usr/local/lib/python3.10/dist-packages (from langchain) (0.0.49)\n",
            "Requirement already satisfied: numpy<2,>=1 in /usr/local/lib/python3.10/dist-packages (from langchain) (1.23.5)\n",
            "Requirement already satisfied: pydantic<3,>=1 in /usr/local/lib/python3.10/dist-packages (from langchain) (1.10.13)\n",
            "Requirement already satisfied: requests<3,>=2 in /usr/local/lib/python3.10/dist-packages (from langchain) (2.31.0)\n",
            "Requirement already satisfied: tenacity<9.0.0,>=8.1.0 in /usr/local/lib/python3.10/dist-packages (from langchain) (8.2.3)\n",
            "Requirement already satisfied: attrs>=17.3.0 in /usr/local/lib/python3.10/dist-packages (from aiohttp<4.0.0,>=3.8.3->langchain) (23.1.0)\n",
            "Requirement already satisfied: charset-normalizer<4.0,>=2.0 in /usr/local/lib/python3.10/dist-packages (from aiohttp<4.0.0,>=3.8.3->langchain) (3.3.0)\n",
            "Requirement already satisfied: multidict<7.0,>=4.5 in /usr/local/lib/python3.10/dist-packages (from aiohttp<4.0.0,>=3.8.3->langchain) (6.0.4)\n",
            "Requirement already satisfied: yarl<2.0,>=1.0 in /usr/local/lib/python3.10/dist-packages (from aiohttp<4.0.0,>=3.8.3->langchain) (1.9.2)\n",
            "Requirement already satisfied: frozenlist>=1.1.1 in /usr/local/lib/python3.10/dist-packages (from aiohttp<4.0.0,>=3.8.3->langchain) (1.4.0)\n",
            "Requirement already satisfied: aiosignal>=1.1.2 in /usr/local/lib/python3.10/dist-packages (from aiohttp<4.0.0,>=3.8.3->langchain) (1.3.1)\n",
            "Requirement already satisfied: idna>=2.8 in /usr/local/lib/python3.10/dist-packages (from anyio<4.0->langchain) (3.4)\n",
            "Requirement already satisfied: sniffio>=1.1 in /usr/local/lib/python3.10/dist-packages (from anyio<4.0->langchain) (1.3.0)\n",
            "Requirement already satisfied: exceptiongroup in /usr/local/lib/python3.10/dist-packages (from anyio<4.0->langchain) (1.1.3)\n",
            "Requirement already satisfied: marshmallow<4.0.0,>=3.18.0 in /usr/local/lib/python3.10/dist-packages (from dataclasses-json<0.7,>=0.5.7->langchain) (3.20.1)\n",
            "Requirement already satisfied: typing-inspect<1,>=0.4.0 in /usr/local/lib/python3.10/dist-packages (from dataclasses-json<0.7,>=0.5.7->langchain) (0.9.0)\n",
            "Requirement already satisfied: jsonpointer>=1.9 in /usr/local/lib/python3.10/dist-packages (from jsonpatch<2.0,>=1.33->langchain) (2.4)\n",
            "Requirement already satisfied: typing-extensions>=4.2.0 in /usr/local/lib/python3.10/dist-packages (from pydantic<3,>=1->langchain) (4.5.0)\n",
            "Requirement already satisfied: urllib3<3,>=1.21.1 in /usr/local/lib/python3.10/dist-packages (from requests<3,>=2->langchain) (2.0.7)\n",
            "Requirement already satisfied: certifi>=2017.4.17 in /usr/local/lib/python3.10/dist-packages (from requests<3,>=2->langchain) (2023.7.22)\n",
            "Requirement already satisfied: greenlet!=0.4.17 in /usr/local/lib/python3.10/dist-packages (from SQLAlchemy<3,>=1.4->langchain) (3.0.0)\n",
            "Requirement already satisfied: packaging>=17.0 in /usr/local/lib/python3.10/dist-packages (from marshmallow<4.0.0,>=3.18.0->dataclasses-json<0.7,>=0.5.7->langchain) (23.2)\n",
            "Requirement already satisfied: mypy-extensions>=0.3.0 in /usr/local/lib/python3.10/dist-packages (from typing-inspect<1,>=0.4.0->dataclasses-json<0.7,>=0.5.7->langchain) (1.0.0)\n",
            "Requirement already satisfied: torch in /usr/local/lib/python3.10/dist-packages (2.1.0+cu118)\n",
            "Requirement already satisfied: filelock in /usr/local/lib/python3.10/dist-packages (from torch) (3.12.4)\n",
            "Requirement already satisfied: typing-extensions in /usr/local/lib/python3.10/dist-packages (from torch) (4.5.0)\n",
            "Requirement already satisfied: sympy in /usr/local/lib/python3.10/dist-packages (from torch) (1.12)\n",
            "Requirement already satisfied: networkx in /usr/local/lib/python3.10/dist-packages (from torch) (3.1)\n",
            "Requirement already satisfied: jinja2 in /usr/local/lib/python3.10/dist-packages (from torch) (3.1.2)\n",
            "Requirement already satisfied: fsspec in /usr/local/lib/python3.10/dist-packages (from torch) (2023.6.0)\n",
            "Requirement already satisfied: triton==2.1.0 in /usr/local/lib/python3.10/dist-packages (from torch) (2.1.0)\n",
            "Requirement already satisfied: MarkupSafe>=2.0 in /usr/local/lib/python3.10/dist-packages (from jinja2->torch) (2.1.3)\n",
            "Requirement already satisfied: mpmath>=0.19 in /usr/local/lib/python3.10/dist-packages (from sympy->torch) (1.3.0)\n",
            "Requirement already satisfied: sentence_transformers in /usr/local/lib/python3.10/dist-packages (2.2.2)\n",
            "Requirement already satisfied: transformers<5.0.0,>=4.6.0 in /usr/local/lib/python3.10/dist-packages (from sentence_transformers) (4.35.0.dev0)\n",
            "Requirement already satisfied: tqdm in /usr/local/lib/python3.10/dist-packages (from sentence_transformers) (4.66.1)\n",
            "Requirement already satisfied: torch>=1.6.0 in /usr/local/lib/python3.10/dist-packages (from sentence_transformers) (2.1.0+cu118)\n",
            "Requirement already satisfied: torchvision in /usr/local/lib/python3.10/dist-packages (from sentence_transformers) (0.16.0+cu118)\n",
            "Requirement already satisfied: numpy in /usr/local/lib/python3.10/dist-packages (from sentence_transformers) (1.23.5)\n",
            "Requirement already satisfied: scikit-learn in /usr/local/lib/python3.10/dist-packages (from sentence_transformers) (1.2.2)\n",
            "Requirement already satisfied: scipy in /usr/local/lib/python3.10/dist-packages (from sentence_transformers) (1.11.3)\n",
            "Requirement already satisfied: nltk in /usr/local/lib/python3.10/dist-packages (from sentence_transformers) (3.8.1)\n",
            "Requirement already satisfied: sentencepiece in /usr/local/lib/python3.10/dist-packages (from sentence_transformers) (0.1.99)\n",
            "Requirement already satisfied: huggingface-hub>=0.4.0 in /usr/local/lib/python3.10/dist-packages (from sentence_transformers) (0.17.3)\n",
            "Requirement already satisfied: filelock in /usr/local/lib/python3.10/dist-packages (from huggingface-hub>=0.4.0->sentence_transformers) (3.12.4)\n",
            "Requirement already satisfied: fsspec in /usr/local/lib/python3.10/dist-packages (from huggingface-hub>=0.4.0->sentence_transformers) (2023.6.0)\n",
            "Requirement already satisfied: requests in /usr/local/lib/python3.10/dist-packages (from huggingface-hub>=0.4.0->sentence_transformers) (2.31.0)\n",
            "Requirement already satisfied: pyyaml>=5.1 in /usr/local/lib/python3.10/dist-packages (from huggingface-hub>=0.4.0->sentence_transformers) (6.0.1)\n",
            "Requirement already satisfied: typing-extensions>=3.7.4.3 in /usr/local/lib/python3.10/dist-packages (from huggingface-hub>=0.4.0->sentence_transformers) (4.5.0)\n",
            "Requirement already satisfied: packaging>=20.9 in /usr/local/lib/python3.10/dist-packages (from huggingface-hub>=0.4.0->sentence_transformers) (23.2)\n",
            "Requirement already satisfied: sympy in /usr/local/lib/python3.10/dist-packages (from torch>=1.6.0->sentence_transformers) (1.12)\n",
            "Requirement already satisfied: networkx in /usr/local/lib/python3.10/dist-packages (from torch>=1.6.0->sentence_transformers) (3.1)\n",
            "Requirement already satisfied: jinja2 in /usr/local/lib/python3.10/dist-packages (from torch>=1.6.0->sentence_transformers) (3.1.2)\n",
            "Requirement already satisfied: triton==2.1.0 in /usr/local/lib/python3.10/dist-packages (from torch>=1.6.0->sentence_transformers) (2.1.0)\n",
            "Requirement already satisfied: regex!=2019.12.17 in /usr/local/lib/python3.10/dist-packages (from transformers<5.0.0,>=4.6.0->sentence_transformers) (2023.6.3)\n",
            "Requirement already satisfied: tokenizers<0.15,>=0.14 in /usr/local/lib/python3.10/dist-packages (from transformers<5.0.0,>=4.6.0->sentence_transformers) (0.14.1)\n",
            "Requirement already satisfied: safetensors>=0.3.1 in /usr/local/lib/python3.10/dist-packages (from transformers<5.0.0,>=4.6.0->sentence_transformers) (0.4.0)\n",
            "Requirement already satisfied: click in /usr/local/lib/python3.10/dist-packages (from nltk->sentence_transformers) (8.1.7)\n",
            "Requirement already satisfied: joblib in /usr/local/lib/python3.10/dist-packages (from nltk->sentence_transformers) (1.3.2)\n",
            "Requirement already satisfied: threadpoolctl>=2.0.0 in /usr/local/lib/python3.10/dist-packages (from scikit-learn->sentence_transformers) (3.2.0)\n",
            "Requirement already satisfied: pillow!=8.3.*,>=5.3.0 in /usr/local/lib/python3.10/dist-packages (from torchvision->sentence_transformers) (9.4.0)\n",
            "Requirement already satisfied: MarkupSafe>=2.0 in /usr/local/lib/python3.10/dist-packages (from jinja2->torch>=1.6.0->sentence_transformers) (2.1.3)\n",
            "Requirement already satisfied: charset-normalizer<4,>=2 in /usr/local/lib/python3.10/dist-packages (from requests->huggingface-hub>=0.4.0->sentence_transformers) (3.3.0)\n",
            "Requirement already satisfied: idna<4,>=2.5 in /usr/local/lib/python3.10/dist-packages (from requests->huggingface-hub>=0.4.0->sentence_transformers) (3.4)\n",
            "Requirement already satisfied: urllib3<3,>=1.21.1 in /usr/local/lib/python3.10/dist-packages (from requests->huggingface-hub>=0.4.0->sentence_transformers) (2.0.7)\n",
            "Requirement already satisfied: certifi>=2017.4.17 in /usr/local/lib/python3.10/dist-packages (from requests->huggingface-hub>=0.4.0->sentence_transformers) (2023.7.22)\n",
            "Requirement already satisfied: mpmath>=0.19 in /usr/local/lib/python3.10/dist-packages (from sympy->torch>=1.6.0->sentence_transformers) (1.3.0)\n",
            "Requirement already satisfied: faiss-cpu in /usr/local/lib/python3.10/dist-packages (1.7.4)\n",
            "Requirement already satisfied: huggingface-hub in /usr/local/lib/python3.10/dist-packages (0.17.3)\n",
            "Requirement already satisfied: filelock in /usr/local/lib/python3.10/dist-packages (from huggingface-hub) (3.12.4)\n",
            "Requirement already satisfied: fsspec in /usr/local/lib/python3.10/dist-packages (from huggingface-hub) (2023.6.0)\n",
            "Requirement already satisfied: requests in /usr/local/lib/python3.10/dist-packages (from huggingface-hub) (2.31.0)\n",
            "Requirement already satisfied: tqdm>=4.42.1 in /usr/local/lib/python3.10/dist-packages (from huggingface-hub) (4.66.1)\n",
            "Requirement already satisfied: pyyaml>=5.1 in /usr/local/lib/python3.10/dist-packages (from huggingface-hub) (6.0.1)\n",
            "Requirement already satisfied: typing-extensions>=3.7.4.3 in /usr/local/lib/python3.10/dist-packages (from huggingface-hub) (4.5.0)\n",
            "Requirement already satisfied: packaging>=20.9 in /usr/local/lib/python3.10/dist-packages (from huggingface-hub) (23.2)\n",
            "Requirement already satisfied: charset-normalizer<4,>=2 in /usr/local/lib/python3.10/dist-packages (from requests->huggingface-hub) (3.3.0)\n",
            "Requirement already satisfied: idna<4,>=2.5 in /usr/local/lib/python3.10/dist-packages (from requests->huggingface-hub) (3.4)\n",
            "Requirement already satisfied: urllib3<3,>=1.21.1 in /usr/local/lib/python3.10/dist-packages (from requests->huggingface-hub) (2.0.7)\n",
            "Requirement already satisfied: certifi>=2017.4.17 in /usr/local/lib/python3.10/dist-packages (from requests->huggingface-hub) (2023.7.22)\n",
            "Requirement already satisfied: pypdf in /usr/local/lib/python3.10/dist-packages (3.16.4)\n",
            "Requirement already satisfied: llama-cpp-python in /usr/local/lib/python3.10/dist-packages (0.2.11)\n",
            "Requirement already satisfied: typing-extensions>=4.5.0 in /usr/local/lib/python3.10/dist-packages (from llama-cpp-python) (4.5.0)\n",
            "Requirement already satisfied: numpy>=1.20.0 in /usr/local/lib/python3.10/dist-packages (from llama-cpp-python) (1.23.5)\n",
            "Requirement already satisfied: diskcache>=5.6.1 in /usr/local/lib/python3.10/dist-packages (from llama-cpp-python) (5.6.3)\n",
            "  Installing build dependencies ... \u001b[?25l\u001b[?25hdone\n",
            "  Getting requirements to build wheel ... \u001b[?25l\u001b[?25hdone\n",
            "  Preparing metadata (pyproject.toml) ... \u001b[?25l\u001b[?25hdone\n"
          ]
        }
      ],
      "source": [
        "!pip install langchain\n",
        "!pip install torch\n",
        "!pip install sentence_transformers\n",
        "!pip install faiss-cpu\n",
        "!pip install huggingface-hub\n",
        "!pip install pypdf\n",
        "!pip -q install accelerate\n",
        "!pip install llama-cpp-python\n",
        "!pip -q install git+https://github.com/huggingface/transformers\n"
      ]
    },
    {
      "cell_type": "code",
      "execution_count": 2,
      "metadata": {
        "id": "8D6s3uMHv-NG"
      },
      "outputs": [],
      "source": [
        "from langchain.chains import RetrievalQA\n",
        "from langchain.embeddings import HuggingFaceEmbeddings\n",
        "from langchain.llms import LlamaCpp\n",
        "from langchain.text_splitter import RecursiveCharacterTextSplitter\n",
        "from langchain.vectorstores import FAISS\n",
        "from langchain.document_loaders import PyPDFDirectoryLoader"
      ]
    },
    {
      "cell_type": "code",
      "execution_count": 3,
      "metadata": {
        "id": "fEXsAyTZxBu7"
      },
      "outputs": [],
      "source": [
        "#load pdf files\n",
        "loader = PyPDFDirectoryLoader(\"/content/\")\n",
        "data = loader.load()"
      ]
    },
    {
      "cell_type": "code",
      "execution_count": 4,
      "metadata": {
        "colab": {
          "base_uri": "https://localhost:8080/"
        },
        "id": "YMtudY08xzRO",
        "outputId": "4243a3cd-8a6d-4832-db19-174e0abdf549"
      },
      "outputs": [
        {
          "name": "stdout",
          "output_type": "stream",
          "text": [
            "[Document(page_content=\"Dataminingisaprocessofdiscoveringhiddenpatterns,relationships,andvaluableinsightsfrom\\nlargedatasets.Itinvolvesvarioustechniquesandmethodstoextractmeaningfulinformationfrom\\ndata.Here'sacomprehensiveoverviewofdatamining:\\nDefinition:Dataminingistheprocessofanalyzingandextractinginformationfromlargedatasetsto\\nuncoverpatterns,correlations,trends,andinsightsthatarenotreadilyapparent.\\nDataSources:\\nStructuredData:Thistypeofdataisorganizedintorowsandcolumns,likedatainrelational\\ndatabases.Itincludesnumericaldata,categoricaldata,anddates.\\nSemi-StructuredData:Datathatdoesn'tconformtoarigidstructurebuthassomelevelof\\norganization,suchasXMLorJSONfiles.\\nUnstructuredData:Thisincludestext,images,audio,andvideo.Extractingmeaningfulinformation\\nfromunstructureddatacanbechallengingbutisacrucialpartofdatamining.\\nDataMiningGoals:\\nPredictiveModelinginvolvesbuildingmodelstopredictfutureoutcomes.Forexample,predicting\\ncustomerchurninatelecomcompany.\\nDescriptiveModelingfocusesonunderstandingthedataitself.Thisincludesgeneratingsummary\\nstatistics,visualizations,andfindingpatternstodescribethedata.\\nPatternDiscoveryaimstoidentifyhiddenpatternsandrelationshipswithinthedata.Forinstance,\\nretailersmightusepatterndiscoverytooptimizestorelayoutsbasedonshoppingpatterns.\\nAnomalyDetectionisaboutfindingdatapointsthatdeviatesignificantlyfromthenorm.It'scriticalin\\nfrauddetectionandnetworksecurity.\\nDataPreprocessing:\\nCleaningData:Thisinvolveshandlingmissingvalues,removingduplicates,andcorrectingerrorsinthe\\ndata.\\nDataTransformation:Scalingandnormalizingdata,convertingcategoricaldataintonumericalform,\\nandreducingdimensionality(e.g.,throughPrincipalComponentAnalysis).\\nDataReduction:Reducingthevolumebutproducingthesameorsimilaranalyticalresults,for\\nexample,byusingsamplingoraggregationtechniques.\\nAlgorithms:\\nDecisionTrees:Thesearetree-likemodelsthatmakedecisionsbysplittingthedataintosubsets\\nbasedoninputfeatures.\\nK-MeansClustering:Usedtogroupdatapointsintoclustersbasedonsimilarity.\\nNeuralNetworks:Aclassofmachinelearningalgorithmsinspiredbythestructureofthehumanbrain,\\noftenusedindeeplearningfortaskslikeimageandspeechrecognition.\\nSupportVectorMachines(SVM):Asupervisedlearningalgorithmusedforclassificationand\\nregressiontasks.\\nAprioriAlgorithm:Aclassicalgorithmforassociationrulemining,oftenusedinmarketbasketanalysis.\\nDataMiningProcess:\\nDataSelection:Carefulselectionofrelevantdatasources,whichcaninvolveintegratingdatafrom\\nmultipledatabasesandexternalsources.\\nDataCleaningandPreprocessing:Asmentionedearlier,thisstepiscrucialtoensuredataquality.\\nDataMining:Applyingselectedalgorithmsandtechniquestotheprepareddatatoextractpatterns\\nandknowledge.\\nEvaluation:Theresultsofdataminingareassessedtoensuretheyaremeaningfulanduseful.Various\\nmeasures,suchasaccuracy,precision,andrecall,areusedforevaluation.\\nDeployment:Thediscoveredpatternsandinsightsareintegratedintobusinessprocessesor\\napplications.Forexample,arecommendationsystemine-commercebasedondataminingresults.\\nChallengesinDataMining:\", metadata={'source': '/content/data_mining.pdf', 'page': 0}), Document(page_content='Scalability:Handlingvastamountsofdataefficientlyischallenging.Distributedcomputingandparallel\\nprocessingareoftenusedtotacklethis.\\nDataQuality:Noisy,missing,orinconsistentdatacanleadtoerroneousresults.Datacleaningand\\nqualityassessmentareessential.\\nOverfitting:Buildingmodelsthataretoocomplexandfitthetrainingdataperfectlybutperform\\npoorlyonnewdata.\\nInterpretability:Somemodels,likeneuralnetworks,areoftenconsidered\"blackboxes\"becauseit\\'s\\nchallengingtointerprethowtheymakedecisions.\\nApplications:\\nBusiness:Customersegmentationfortargetedmarketing,frauddetectioninfinancialtransactions,\\nanddemandforecasting.\\nHealthcare:Diseasepredictionandearlydiagnosis,patientoutcomeprediction,andpersonalized\\nmedicine.\\nFinance:Creditscoring,riskassessment,algorithmictrading,andfrauddetection.\\nMarketing:Recommendationsystems,sentimentanalysis,andcustomerchurnprediction.\\nScience:Drugdiscovery,genomics,climatemodeling,andparticlephysics.\\nEthicalandLegalConsiderations:\\nPrivacyConcerns:Protectingindividuals\\'sensitiveinformationwhileusingitforanalysis.\\nBiasandFairness:Ensuringalgorithmsdon\\'tdiscriminateagainstcertaingroupsorindividuals.\\nTransparency:Makingthedataminingprocessandresultsunderstandable,especiallyinregulated\\nindustrieslikehealthcareandfinance.\\nDataminingisamultifacetedfieldthatcombinestechniquesfromstatistics,machinelearning,and\\ndatabasemanagement.Itcontinuestoevolvewiththegrowthofdataandthedevelopmentofnew\\nalgorithmsandtools.\\nAssociationRuleMining:\\nAssociationruleminingisaspecificdataminingtechniqueusedtodiscoverinterestingrelationships\\nbetweenvariablesinlargedatasets.It\\'softenappliedinretailformarketbasketanalysis.\\nAprioriisawidelyusedalgorithmforassociationrulemining.Itidentifiespatternssuchas\"ifa\\ncustomerbuysproductA,theyarelikelytobuyproductBaswell.\"\\nSequentialPatternMining:\\nThistechniqueextendsassociationruleminingtoconsidertheorderandtimingofeventsina\\nsequence.It\\'susefulinvariousapplications,suchasanalyzingwebclickstreams,DNAsequencing,and\\npredictinguserbehavior.\\nTheGSP(GeneralizedSequentialPattern)algorithmisanexampleusedforsequentialpatternmining.\\nSpatialDataMining:\\nSpatialdataminingfocusesonextractingpatternsandknowledgefromdatasetswithspatialor\\ngeographicinformation.It\\'sappliedinfieldslikeurbanplanning,environmentalmonitoring,and\\nlocation-basedservices.\\nTechniquesincludeclusteringgeographicaldatatoidentifyhotspotsorfindingpatternsinthe\\nmovementofobjectsinspace.\\nTemporalDataMining:\\nTemporaldataminingdealswithdatathatevolvesovertime.It\\'sessentialinfieldslikefinancefor\\ntimeseriesanalysisandinhealthcareformonitoringpatienthealthovertime.\\nTechniquesincludetrendanalysis,seasonalitydetection,andpredictionmodelsthatconsiderthe\\ntimedimension.\\nGraphMining:\\nGraphmininginvolvestheanalysisofdatastructuredasnetworksorgraphs,wherenodesrepresent\\nentities,andedgesrepresentrelationshipsbetweenentities.Socialnetworks,transportation\\nnetworks,andtheWorldWideWebareexamples.', metadata={'source': '/content/data_mining.pdf', 'page': 1}), Document(page_content=\"AlgorithmslikePageRankareusedforrankingwebpages,andcommunitydetectionalgorithmshelp\\nidentifygroupswithinsocialnetworks.\\nTextMining:\\nTextmining,alsoknownastextanalyticsornaturallanguageprocessing,focusesonextracting\\nmeaningfulinformationfromtextualdata.\\nTechniquesincludesentimentanalysis(determiningthesentimentoremotionexpressedintext),\\nnamedentityrecognition(identifyingnamesofpeople,places,andorganizations),andtopicmodeling\\n(findingtopicswithinacollectionofdocuments).\\nDeepLearninginDataMining:\\nDeeplearningtechniques,suchasconvolutionalneuralnetworks(CNNs)andrecurrentneural\\nnetworks(RNNs),areincreasinglyusedindatamining,particularlyinimageandtextanalysis.\\nCNNsareemployedforimagerecognitionandobjectdetection,whileRNNsareusedforsequential\\ndata,liketimeseriesandnaturallanguageprocessingtasks.\\nBigDataandDataMining:\\nWiththeadventofbigdata,datamininghasexpandedtohandlemassivedatasetsthattraditional\\nmethodscan'tmanage.DistributedcomputingframeworkslikeHadoopandSparkareusedtoprocess\\nandminebigdata.\\nTheMapReduceprogrammingmodel,whichHadoopisbasedon,enablestheparallelprocessingof\\nlargedatasetsacrossclustersofcomputers.\\nStreamingDataMining:\\nInapplicationswheredataisgeneratedcontinuouslyandneedstobeanalyzedinreal-time,streaming\\ndataminingisused.It'svitalinscenarioslikemonitoringnetworktrafficoranalyzingsocialmedia\\ntrends.\\nAlgorithmsmustbeadaptedtoprocessdataasitarrives,inasinglepass,andtodetectpatternsand\\nanomalieswithoutstoringtheentiredataset.\\nScalabilityandParallelism:\\nScalabilityisasignificantconcernindatamining.Parallelprocessinganddistributedcomputingare\\nusedtohandlelargedatasetsefficiently.\\nTechniqueslikeparallelprocessing,cloudcomputing,andGPUaccelerationareemployedtospeedup\\ndataminingtasks.\\nDataMininginHealthcare:\\nInhealthcare,dataminingisusedforpredictingdiseaseoutbreaks,personalizingtreatmentplans,\\nandimprovingpatientcarethroughanalysisofelectronichealthrecords.\\nAdvancedtechniques,suchasdeeplearningandpredictivemodeling,areusedtomakemedical\\ndiagnosesandidentifypatternsinpatientdata.\\nDataMininginFinance:\\nThefinancialindustryreliesondataminingfortaskslikecreditscoring,frauddetection,and\\nalgorithmictrading.\\nTechniquesincluderiskmodeling,timeseriesanalysisforstockpriceprediction,andanomaly\\ndetectiontoidentifyunusualfinancialtransactions.\\nOpenSourceDataMiningTools:\\nVariousopen-sourcedataminingtoolsandlibrariesareavailable.ExamplesincludeWeka,Orange,\\nandthePythonlibrariesscikit-learnandOrange3.Thesetoolsprovideawiderangeofalgorithmsand\\nfunctionalitiesfordatamining.\\nDataminingisadynamicfieldthatcontinuestoevolveasnewdatasourcesandtechniquesemerge.\\nIt'sessentialforderivingvaluableinsightsfromdiversetypesofdata,leadingtobetterdecision-\\nmakinginvariousdomains.\", metadata={'source': '/content/data_mining.pdf', 'page': 2}), Document(page_content='', metadata={'source': '/content/data_mining.pdf', 'page': 3})]\n"
          ]
        }
      ],
      "source": [
        "print(data)"
      ]
    },
    {
      "cell_type": "code",
      "execution_count": 5,
      "metadata": {
        "id": "T1L27WlvyJIu"
      },
      "outputs": [],
      "source": [
        "#Step 05: Split the Extracted Data into Text Chunks\n",
        "text_splitter = RecursiveCharacterTextSplitter(chunk_size=900, chunk_overlap=50)\n",
        "\n",
        "text_chunks = text_splitter.split_documents(data)\n"
      ]
    },
    {
      "cell_type": "code",
      "execution_count": 6,
      "metadata": {
        "colab": {
          "base_uri": "https://localhost:8080/"
        },
        "id": "6Jq5TiVcyiu2",
        "outputId": "22998915-95bd-426a-b62b-49ed24e6409d"
      },
      "outputs": [
        {
          "data": {
            "text/plain": [
              "12"
            ]
          },
          "execution_count": 6,
          "metadata": {},
          "output_type": "execute_result"
        }
      ],
      "source": [
        "len(text_chunks)"
      ]
    },
    {
      "cell_type": "code",
      "execution_count": 7,
      "metadata": {
        "colab": {
          "base_uri": "https://localhost:8080/"
        },
        "id": "1o8aXL-Ryp9e",
        "outputId": "87d18153-f7e0-486b-fd06-f3075914881f"
      },
      "outputs": [
        {
          "data": {
            "text/plain": [
              "Document(page_content='DataReduction:Reducingthevolumebutproducingthesameorsimilaranalyticalresults,for\\nexample,byusingsamplingoraggregationtechniques.\\nAlgorithms:\\nDecisionTrees:Thesearetree-likemodelsthatmakedecisionsbysplittingthedataintosubsets\\nbasedoninputfeatures.\\nK-MeansClustering:Usedtogroupdatapointsintoclustersbasedonsimilarity.\\nNeuralNetworks:Aclassofmachinelearningalgorithmsinspiredbythestructureofthehumanbrain,\\noftenusedindeeplearningfortaskslikeimageandspeechrecognition.\\nSupportVectorMachines(SVM):Asupervisedlearningalgorithmusedforclassificationand\\nregressiontasks.\\nAprioriAlgorithm:Aclassicalgorithmforassociationrulemining,oftenusedinmarketbasketanalysis.\\nDataMiningProcess:\\nDataSelection:Carefulselectionofrelevantdatasources,whichcaninvolveintegratingdatafrom\\nmultipledatabasesandexternalsources.\\nDataCleaningandPreprocessing:Asmentionedearlier,thisstepiscrucialtoensuredataquality.', metadata={'source': '/content/data_mining.pdf', 'page': 0})"
            ]
          },
          "execution_count": 7,
          "metadata": {},
          "output_type": "execute_result"
        }
      ],
      "source": [
        "#get the third chunk\n",
        "text_chunks[2]"
      ]
    },
    {
      "cell_type": "code",
      "execution_count": 8,
      "metadata": {
        "id": "M7oKKdTPyxax"
      },
      "outputs": [],
      "source": [
        "#Step 06:Downlaod the Embeddings\n",
        "embeddings = HuggingFaceEmbeddings(model_name=\"sentence-transformers/all-MiniLM-L6-v2\")\n"
      ]
    },
    {
      "cell_type": "code",
      "execution_count": 9,
      "metadata": {
        "id": "MJbn_hjzznhm"
      },
      "outputs": [],
      "source": [
        "#Step 08: Create Embeddings for each of the Text Chunk\n",
        "vector_store = FAISS.from_documents(text_chunks, embedding=embeddings)"
      ]
    },
    {
      "cell_type": "code",
      "execution_count": 10,
      "metadata": {
        "colab": {
          "base_uri": "https://localhost:8080/"
        },
        "id": "COpC5vf8G32p",
        "outputId": "7f62516d-8f0a-4fb6-c583-974ff847fa4c"
      },
      "outputs": [
        {
          "name": "stdout",
          "output_type": "stream",
          "text": [
            "--2023-10-22 16:47:09--  https://huggingface.co/TheBloke/Mistral-7B-Instruct-v0.1-GGUF/resolve/main/mistral-7b-instruct-v0.1.Q4_K_M.gguf\n",
            "Resolving huggingface.co (huggingface.co)... 18.172.134.24, 18.172.134.124, 18.172.134.88, ...\n",
            "Connecting to huggingface.co (huggingface.co)|18.172.134.24|:443... connected.\n",
            "HTTP request sent, awaiting response... 302 Found\n",
            "Location: https://cdn-lfs.huggingface.co/repos/46/12/46124cd8d4788fd8e0879883abfc473f247664b987955cc98a08658f7df6b826/14466f9d658bf4a79f96c3f3f22759707c291cac4e62fea625e80c7d32169991?response-content-disposition=attachment%3B+filename*%3DUTF-8%27%27mistral-7b-instruct-v0.1.Q4_K_M.gguf%3B+filename%3D%22mistral-7b-instruct-v0.1.Q4_K_M.gguf%22%3B&Expires=1698248873&Policy=eyJTdGF0ZW1lbnQiOlt7IkNvbmRpdGlvbiI6eyJEYXRlTGVzc1RoYW4iOnsiQVdTOkVwb2NoVGltZSI6MTY5ODI0ODg3M319LCJSZXNvdXJjZSI6Imh0dHBzOi8vY2RuLWxmcy5odWdnaW5nZmFjZS5jby9yZXBvcy80Ni8xMi80NjEyNGNkOGQ0Nzg4ZmQ4ZTA4Nzk4ODNhYmZjNDczZjI0NzY2NGI5ODc5NTVjYzk4YTA4NjU4ZjdkZjZiODI2LzE0NDY2ZjlkNjU4YmY0YTc5Zjk2YzNmM2YyMjc1OTcwN2MyOTFjYWM0ZTYyZmVhNjI1ZTgwYzdkMzIxNjk5OTE%7EcmVzcG9uc2UtY29udGVudC1kaXNwb3NpdGlvbj0qIn1dfQ__&Signature=YMUhErfAFcTBhxK-F1vWR4R74thRlj7RYKKBYcbFzcXIzhHvEbirxgUBygYrZvgo8Zp3bg2bdfucKV4-JOFAGWXtUmh9pCV46m9DrsGdgWbAG2SU6nw8ECP4K3Sabd53PiowlnWhmuFjkzYjDkOI4iq7GS47cpBsCISf6CbH-mHdNFYRzF60n1fnqc2AIHdrQrU9CjrQgAxVTtQdVgl-r23BQp44ZBTwLZekcLQHSatRZDSZenvv-4wZ%7E%7EAZr6NamKpD6sZLbWeU0nUS0GvlqOIJ9FSfKhV9tPRw-ISKrN9F0OWOR1pmMEtjp3lYqeXJiE3WbizIR6CNH2bEpLhpPQ__&Key-Pair-Id=KVTP0A1DKRTAX [following]\n",
            "--2023-10-22 16:47:09--  https://cdn-lfs.huggingface.co/repos/46/12/46124cd8d4788fd8e0879883abfc473f247664b987955cc98a08658f7df6b826/14466f9d658bf4a79f96c3f3f22759707c291cac4e62fea625e80c7d32169991?response-content-disposition=attachment%3B+filename*%3DUTF-8%27%27mistral-7b-instruct-v0.1.Q4_K_M.gguf%3B+filename%3D%22mistral-7b-instruct-v0.1.Q4_K_M.gguf%22%3B&Expires=1698248873&Policy=eyJTdGF0ZW1lbnQiOlt7IkNvbmRpdGlvbiI6eyJEYXRlTGVzc1RoYW4iOnsiQVdTOkVwb2NoVGltZSI6MTY5ODI0ODg3M319LCJSZXNvdXJjZSI6Imh0dHBzOi8vY2RuLWxmcy5odWdnaW5nZmFjZS5jby9yZXBvcy80Ni8xMi80NjEyNGNkOGQ0Nzg4ZmQ4ZTA4Nzk4ODNhYmZjNDczZjI0NzY2NGI5ODc5NTVjYzk4YTA4NjU4ZjdkZjZiODI2LzE0NDY2ZjlkNjU4YmY0YTc5Zjk2YzNmM2YyMjc1OTcwN2MyOTFjYWM0ZTYyZmVhNjI1ZTgwYzdkMzIxNjk5OTE%7EcmVzcG9uc2UtY29udGVudC1kaXNwb3NpdGlvbj0qIn1dfQ__&Signature=YMUhErfAFcTBhxK-F1vWR4R74thRlj7RYKKBYcbFzcXIzhHvEbirxgUBygYrZvgo8Zp3bg2bdfucKV4-JOFAGWXtUmh9pCV46m9DrsGdgWbAG2SU6nw8ECP4K3Sabd53PiowlnWhmuFjkzYjDkOI4iq7GS47cpBsCISf6CbH-mHdNFYRzF60n1fnqc2AIHdrQrU9CjrQgAxVTtQdVgl-r23BQp44ZBTwLZekcLQHSatRZDSZenvv-4wZ%7E%7EAZr6NamKpD6sZLbWeU0nUS0GvlqOIJ9FSfKhV9tPRw-ISKrN9F0OWOR1pmMEtjp3lYqeXJiE3WbizIR6CNH2bEpLhpPQ__&Key-Pair-Id=KVTP0A1DKRTAX\n",
            "Resolving cdn-lfs.huggingface.co (cdn-lfs.huggingface.co)... 18.154.185.94, 18.154.185.64, 18.154.185.26, ...\n",
            "Connecting to cdn-lfs.huggingface.co (cdn-lfs.huggingface.co)|18.154.185.94|:443... connected.\n",
            "HTTP request sent, awaiting response... 200 OK\n",
            "Length: 4368438944 (4.1G) [binary/octet-stream]\n",
            "Saving to: ‘mistral-7b-instruct-v0.1.Q4_K_M.gguf’\n",
            "\n",
            "mistral-7b-instruct 100%[===================>]   4.07G   220MB/s    in 25s     \n",
            "\n",
            "2023-10-22 16:47:34 (169 MB/s) - ‘mistral-7b-instruct-v0.1.Q4_K_M.gguf’ saved [4368438944/4368438944]\n",
            "\n"
          ]
        }
      ],
      "source": [
        "!wget \"https://huggingface.co/TheBloke/Mistral-7B-Instruct-v0.1-GGUF/resolve/main/mistral-7b-instruct-v0.1.Q4_K_M.gguf\""
      ]
    },
    {
      "cell_type": "code",
      "execution_count": 11,
      "metadata": {
        "colab": {
          "base_uri": "https://localhost:8080/"
        },
        "id": "v9Y5Va538RDL",
        "outputId": "17959d39-9aa3-4f73-a5d6-24614044f02b"
      },
      "outputs": [
        {
          "name": "stderr",
          "output_type": "stream",
          "text": [
            "AVX = 1 | AVX2 = 1 | AVX512 = 0 | AVX512_VBMI = 0 | AVX512_VNNI = 0 | FMA = 1 | NEON = 0 | ARM_FMA = 0 | F16C = 1 | FP16_VA = 0 | WASM_SIMD = 0 | BLAS = 0 | SSE3 = 1 | SSSE3 = 1 | VSX = 0 | \n"
          ]
        }
      ],
      "source": [
        "#Import Model\n",
        "llm = LlamaCpp(\n",
        "    streaming = True,\n",
        "    model_path=\"/content/mistral-7b-instruct-v0.1.Q4_K_M.gguf\",\n",
        "    temperature=0.75,\n",
        "    top_p=1,\n",
        "    verbose=True,\n",
        "    n_ctx=4096\n",
        ")"
      ]
    },
    {
      "cell_type": "code",
      "execution_count": 12,
      "metadata": {
        "id": "4Vpb_w-i94Th"
      },
      "outputs": [],
      "source": [
        "qa = RetrievalQA.from_chain_type(llm=llm, chain_type=\"stuff\", retriever=vector_store.as_retriever(search_kwargs={\"k\": 2}))"
      ]
    },
    {
      "cell_type": "code",
      "execution_count": 13,
      "metadata": {
        "id": "8DWiBe3cENZB"
      },
      "outputs": [],
      "source": [
        "query = \"What is data mining?\""
      ]
    },
    {
      "cell_type": "code",
      "execution_count": 14,
      "metadata": {
        "colab": {
          "base_uri": "https://localhost:8080/",
          "height": 90
        },
        "id": "mdFYMQfR_gzI",
        "outputId": "c3d01f94-1b0f-4da9-e691-29a467fc735f"
      },
      "outputs": [
        {
          "data": {
            "application/vnd.google.colaboratory.intrinsic+json": {
              "type": "string"
            },
            "text/plain": [
              "' Data mining is the process of discovering patterns and knowledge from large amounts of data using various techniques such as predictive modeling, descriptive modeling, pattern discovery, anomaly detection, data preprocessing, and open-source data mining tools. These techniques are used in various fields like healthcare, finance, etc., to achieve specific goals like predicting disease outbreaks, personalizing treatment plans, credit scoring, fraud detection, algorithmic trading, etc. Data mining helps organizations make informed decisions based on their data.'"
            ]
          },
          "execution_count": 14,
          "metadata": {},
          "output_type": "execute_result"
        }
      ],
      "source": [
        "qa.run(query)"
      ]
    },
    {
      "cell_type": "code",
      "execution_count": 18,
      "metadata": {
        "colab": {
          "base_uri": "https://localhost:8080/"
        },
        "id": "pl_4JdUatnTQ",
        "outputId": "73ac9427-2081-4ea3-e45d-df221a3a21b1"
      },
      "outputs": [
        {
          "name": "stdout",
          "output_type": "stream",
          "text": [
            "Input Prompt: what is data preprocessing?\n"
          ]
        },
        {
          "name": "stderr",
          "output_type": "stream",
          "text": [
            "Llama.generate: prefix-match hit\n"
          ]
        },
        {
          "name": "stdout",
          "output_type": "stream",
          "text": [
            "Answer:  Data preprocessing is a step in the data mining process that involves cleaning and preparing raw data for analysis. It includes tasks such as data normalization, data integration, data reduction, missing value imputation, outlier detection and removal, and variable selection. Data preprocessing helps to improve the quality of the data and make it more suitable for analysis, which can lead to better insights and more accurate results.\n",
            "Input Prompt: exit\n",
            "Exiting\n"
          ]
        }
      ],
      "source": [
        "import sys\n",
        "\n",
        "while True:\n",
        "  user_input = input(f\"Input Prompt: \")\n",
        "  if user_input == 'exit':\n",
        "    print('Exiting')\n",
        "    break\n",
        "  if user_input == '':\n",
        "    continue\n",
        "  result = qa({'query': user_input})\n",
        "  print(f\"Answer: {result['result']}\")"
      ]
    }
  ],
  "metadata": {
    "accelerator": "GPU",
    "colab": {
      "gpuType": "T4",
      "provenance": []
    },
    "kernelspec": {
      "display_name": "Python 3",
      "name": "python3"
    },
    "language_info": {
      "name": "python"
    }
  },
  "nbformat": 4,
  "nbformat_minor": 0
}
